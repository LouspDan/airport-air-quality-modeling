{
 "cells": [
  {
   "cell_type": "code",
   "execution_count": null,
   "id": "2f794376",
   "metadata": {
    "vscode": {
     "languageId": "plaintext"
    }
   },
   "outputs": [],
   "source": [
    "import numpy as np, geopandas as gpd, pandas as pd\n",
    "from shapely.geometry import Point\n",
    "# Pistes fictives (orientation en degrés, position)\n",
    "RUNWAYS = [\n",
    "    {\"name\":\"R1\",\"x\":0,\"y\":0,\"heading\":90},\n",
    "    {\"name\":\"R2\",\"x\":0,\"y\":0,\"heading\":180},\n",
    "]\n",
    "GRID_STEP = 0.2  # km\n",
    "LEVELS = [50, 55, 60, 65, 70]  # dB(A)"
   ]
  },
  {
   "cell_type": "code",
   "execution_count": null,
   "id": "4ca7ee5e",
   "metadata": {
    "vscode": {
     "languageId": "plaintext"
    }
   },
   "outputs": [],
   "source": [
    "# grille (–10..10 km)\n",
    "xs = np.arange(-10, 10+GRID_STEP, GRID_STEP)\n",
    "ys = np.arange(-10, 10+GRID_STEP, GRID_STEP)\n",
    "X, Y = np.meshgrid(xs, ys)\n",
    "\n",
    "def lden_from_runway(x, y, rw):\n",
    "    # cônes gaussiens alignés sur l’axe de la piste + décroissance radiale\n",
    "    dx, dy = x - rw[\"x\"], y - rw[\"y\"]\n",
    "    theta = np.deg2rad(rw[\"heading\"])\n",
    "    xr =  dx*np.cos(theta) + dy*np.sin(theta)     # axe piste\n",
    "    yr = -dx*np.sin(theta) + dy*np.cos(theta)\n",
    "    base = 75*np.exp(-(yr**2)/(2*1.5**2)) * np.exp(-np.clip(xr,0,None)/5)\n",
    "    return base\n",
    "\n",
    "L = np.zeros_like(X, dtype=float)\n",
    "for rw in RUNWAYS:\n",
    "    L = np.maximum(L, lden_from_runway(X, Y, rw))\n",
    "L = np.clip(L, 30, None)  # plancher\n"
   ]
  },
  {
   "cell_type": "code",
   "execution_count": null,
   "id": "e7eb8236",
   "metadata": {
    "vscode": {
     "languageId": "plaintext"
    }
   },
   "outputs": [],
   "source": [
    "import matplotlib.pyplot as plt\n",
    "fig, ax = plt.subplots(figsize=(6,5))\n",
    "cs = ax.contour(X, Y, L, levels=LEVELS)\n",
    "ax.clabel(cs, inline=True, fontsize=8)\n",
    "ax.set_title(\"Isophones (Lden) – scénario fictif\")\n",
    "ax.set_xlabel(\"km Est–Ouest\"); ax.set_ylabel(\"km Nord–Sud\")\n",
    "plt.savefig(\"outputs/noise/noise_map_example.png\", dpi=150, bbox_inches=\"tight\")\n",
    "\n",
    "# Export GeoJSON des points (optionnel, rapide)\n",
    "gdf = gpd.GeoDataFrame({\"Lden\":L.ravel()},\n",
    "                       geometry=[Point(x,y) for x,y in zip(X.ravel(),Y.ravel())],\n",
    "                       crs=\"EPSG:3857\")\n",
    "gdf.to_file(\"outputs/noise/grid_points.geojson\", driver=\"GeoJSON\")\n"
   ]
  }
 ],
 "metadata": {
  "language_info": {
   "name": "python"
  }
 },
 "nbformat": 4,
 "nbformat_minor": 5
}
